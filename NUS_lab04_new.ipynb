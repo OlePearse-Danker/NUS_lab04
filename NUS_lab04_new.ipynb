{
 "cells": [
  {
   "cell_type": "code",
   "execution_count": null,
   "metadata": {},
   "outputs": [],
   "source": []
  },
  {
   "cell_type": "markdown",
   "metadata": {},
   "source": [
    "## Aufgabe 1\n",
    "### b)"
   ]
  },
  {
   "cell_type": "code",
   "execution_count": null,
   "metadata": {},
   "outputs": [],
   "source": [
    "\n",
    "import pandas as pd\n",
    "import matplotlib.pyplot as plt\n",
    "import os\n",
    "\n",
    "# Funktion zum Einlesen und Verarbeiten einer einzelnen Datei\n",
    "def process_file(file_path):\n",
    "    df = pd.read_csv(file_path)\n",
    "    # Nur Einträge größer als Null berücksichtigen\n",
    "    df = df[(df['diesel'] > 0) & (df['e5'] > 0) & (df['e10'] > 0)]\n",
    "    # Median für diesel, e5 und e10 berechnen\n",
    "    median_prices = df[['diesel', 'e5', 'e10']].median()\n",
    "    # Berechnung des arithmetischen Mittels und der Standardabweichung für diesel, e5 und e10\n",
    "    means = df[['diesel', 'e5', 'e10']].mean()\n",
    "    std_devs = df[['diesel', 'e5', 'e10']].std()\n",
    "    # Berechnung der Coefficient of Variation (CV)\n",
    "    cv = std_devs / means\n",
    "    return df, median_prices, cv\n",
    "\n",
    "# Pfad zum Verzeichnis mit den Dateien\n",
    "base_path = '2023'\n",
    "\n",
    "# Listen zum Speichern der Ergebnisse\n",
    "dates = []\n",
    "diesel_medians = []\n",
    "e5_medians = []\n",
    "e10_medians = []\n",
    "cvs = []\n",
    "all_data = {}\n",
    "\n",
    "# Durch das ganze Jahr iterieren\n",
    "for month in range(1, 13):\n",
    "    for day in range(1, 32):\n",
    "        try:\n",
    "            # Datum für den aktuellen Tag\n",
    "            date_str = f'2023-{month:02d}-{day:02d}'\n",
    "            # Pfad zur Datei für den aktuellen Tag\n",
    "            file_path = os.path.join(base_path, f'{month:02d}', f'{date_str}-prices.csv')\n",
    "            # Überprüfen, ob die Datei existiert\n",
    "            if os.path.exists(file_path):\n",
    "                # Datei einlesen und Medianpreise sowie CV berechnen\n",
    "                df, medians, cv = process_file(file_path)\n",
    "                # Ergebnisse speichern\n",
    "                dates.append(date_str)\n",
    "                diesel_medians.append(medians['diesel'])\n",
    "                e5_medians.append(medians['e5'])\n",
    "                e10_medians.append(medians['e10'])\n",
    "                cvs.append(cv)\n",
    "                all_data[date_str] = df\n",
    "        except Exception as e:\n",
    "            print(f'Fehler beim Verarbeiten der Datei {file_path}: {e}')\n",
    "\n",
    "# Ergebnisse in ein DataFrame umwandeln\n",
    "median_df = pd.DataFrame({\n",
    "    'date': pd.to_datetime(dates),\n",
    "    'diesel': diesel_medians,\n",
    "    'e5': e5_medians,\n",
    "    'e10': e10_medians\n",
    "})\n",
    "cv_df = pd.DataFrame(cvs, index=pd.to_datetime(dates))\n",
    "\n",
    "# Plotten der Medianpreise\n",
    "plt.figure(figsize=(12, 6))\n",
    "plt.plot(median_df['date'], median_df['diesel'], label='Diesel')\n",
    "plt.plot(median_df['date'], median_df['e5'], label='E5')\n",
    "plt.plot(median_df['date'], median_df['e10'], label='E10')\n",
    "plt.title('Medianpreise für Diesel, E5 und E10 im Jahr 2023')\n",
    "plt.xlabel('Datum')\n",
    "plt.ylabel('Preis in Euro')\n",
    "plt.legend()\n",
    "plt.grid(True)\n",
    "plt.show()"
   ]
  },
  {
   "cell_type": "markdown",
   "metadata": {},
   "source": [
    "## Aufgabe 1\n",
    "### c)\n"
   ]
  },
  {
   "cell_type": "code",
   "execution_count": null,
   "metadata": {},
   "outputs": [],
   "source": [
    "# Tag mit der größten und kleinsten Schwankung identifizieren\n",
    "max_cv_date = cv_df.mean(axis=1).idxmax()\n",
    "min_cv_date = cv_df.mean(axis=1).idxmin()\n",
    "\n",
    "print(f'Tag mit der größten Schwankung: {max_cv_date}')\n",
    "print(f'Tag mit der kleinsten Schwankung: {min_cv_date}')\n",
    "\n",
    "# Boxplots für die Tage mit der größten und kleinsten Schwankung erstellen\n",
    "fig, axes = plt.subplots(1, 2, figsize=(15, 6))\n",
    "\n",
    "all_data[max_cv_date.strftime('%Y-%m-%d')].boxplot(column=['diesel', 'e5', 'e10'], ax=axes[0])\n",
    "axes[0].set_title(f'Boxplot für den Tag mit der größten Schwankung\\n{max_cv_date.strftime(\"%Y-%m-%d\")}')\n",
    "axes[0].set_ylabel('Preis in Euro')\n",
    "\n",
    "all_data[min_cv_date.strftime('%Y-%m-%d')].boxplot(column=['diesel', 'e5', 'e10'], ax=axes[1])\n",
    "axes[1].set_title(f'Boxplot für den Tag mit der kleinsten Schwankung\\n{min_cv_date.strftime(\"%Y-%m-%d\")}')\n",
    "axes[1].set_ylabel('Preis in Euro')\n",
    "\n",
    "plt.tight_layout()\n",
    "plt.show()\n"
   ]
  },
  {
   "cell_type": "markdown",
   "metadata": {},
   "source": [
    "## Aufgabe 2\n",
    "### a)\n"
   ]
  },
  {
   "cell_type": "code",
   "execution_count": null,
   "metadata": {},
   "outputs": [],
   "source": [
    "import numpy as np\n",
    "import matplotlib.pyplot as plt\n",
    "\n",
    "# Standardnormalverteilung\n",
    "def f(x):\n",
    "    return (1 / np.sqrt(2 * np.pi)) * np.exp(-0.5 * x**2)\n",
    "\n",
    "# Intervall [-4, 4]\n",
    "x = np.linspace(-4, 4, 1000)\n",
    "y = f(x)\n",
    "\n",
    "# Graph zeichnen\n",
    "plt.figure(figsize=(10, 5))\n",
    "plt.plot(x, y, label='$f(x) = \\\\frac{1}{\\\\sqrt{2\\\\pi}} e^{-x^2/2}$')\n",
    "plt.title('Standardnormalverteilung')\n",
    "plt.xlabel('x')\n",
    "plt.ylabel('f(x)')\n",
    "plt.legend()\n",
    "plt.grid(True)\n",
    "plt.show()\n"
   ]
  },
  {
   "cell_type": "markdown",
   "metadata": {},
   "source": [
    "\n",
    "## Aufgabe 2\n",
    "### b)\n"
   ]
  },
  {
   "cell_type": "code",
   "execution_count": null,
   "metadata": {},
   "outputs": [],
   "source": [
    "# Zweite Ableitung von f(x)\n",
    "def f_double_prime(x):\n",
    "    return (x**2 - 1) * f(x)\n",
    "\n",
    "# Zweite Ableitung berechnen und plotten\n",
    "y_double_prime = f_double_prime(x)\n",
    "\n",
    "# Graph zeichnen\n",
    "plt.figure(figsize=(10, 5))\n",
    "plt.plot(x, y_double_prime, label=\"$f''(x) = (x^2 - 1) \\\\frac{1}{\\\\sqrt{2\\\\pi}} e^{-x^2/2}$\", color='r')\n",
    "plt.title('Zweite Ableitung der Standardnormalverteilung')\n",
    "plt.xlabel('x')\n",
    "plt.ylabel(\"$f''(x)$\")\n",
    "plt.legend()\n",
    "plt.grid(True)\n",
    "plt.show()\n",
    "\n",
    "# Nullstellen der zweiten Ableitung finden\n",
    "from scipy.optimize import newton\n",
    "\n",
    "nullstellen = [newton(f_double_prime, -1), newton(f_double_prime, 1)]\n",
    "print(f\"Nullstellen von f''(x): {nullstellen}\")"
   ]
  },
  {
   "cell_type": "markdown",
   "metadata": {},
   "source": [
    "\n",
    "## Aufgabe 2\n",
    "### c)\n"
   ]
  },
  {
   "cell_type": "code",
   "execution_count": null,
   "metadata": {},
   "outputs": [],
   "source": [
    "from scipy.integrate import simps\n",
    "\n",
    "def sigma_integral(a, n):\n",
    "    x = np.linspace(-a, a, n)\n",
    "    y = f(x)\n",
    "    return simps(y, x)\n",
    "\n",
    "# Integral im Intervall [0, 5] plotten\n",
    "a_values = np.linspace(0, 5, 500)\n",
    "integrals = [sigma_integral(a, 1000) for a in a_values]\n",
    "\n",
    "plt.figure(figsize=(10, 5))\n",
    "plt.plot(a_values, integrals, label='$\\int_{-a}^{a} f(x) dx$')\n",
    "plt.title('Integral der Standardnormalverteilung als Funktion von a')\n",
    "plt.xlabel('a')\n",
    "plt.ylabel('Integralwert')\n",
    "plt.legend()\n",
    "plt.grid(True)\n",
    "plt.show()"
   ]
  },
  {
   "cell_type": "markdown",
   "metadata": {},
   "source": [
    "## Aufgabe 2\n",
    "### d)"
   ]
  },
  {
   "cell_type": "code",
   "execution_count": null,
   "metadata": {},
   "outputs": [],
   "source": [
    "from scipy.optimize import brentq\n",
    "\n",
    "def integral_target(a):\n",
    "    return sigma_integral(a, 1000) - 0.9\n",
    "\n",
    "a_0_9 = brentq(integral_target, 0, 5)\n",
    "print(f\"Wert von a für ein Integral von 0.9: {a_0_9}\")\n"
   ]
  },
  {
   "cell_type": "markdown",
   "metadata": {},
   "source": [
    "\n",
    "## Aufgabe 3\n",
    "### a)"
   ]
  },
  {
   "cell_type": "code",
   "execution_count": null,
   "metadata": {},
   "outputs": [],
   "source": [
    "\n",
    "import matplotlib.pyplot as plt\n",
    "from read import binary\n",
    "\n",
    "# Dateipfad\n",
    "file_path = 'messwerte.bin'\n",
    "\n",
    "# Daten einlesen\n",
    "I, U = binary(file_path)\n",
    "\n",
    "# Scatter-Plot erstellen\n",
    "plt.figure(figsize=(10, 5))\n",
    "plt.scatter(I, U, label='Messwerte')\n",
    "plt.title('Strom I vs. Spannung U')\n",
    "plt.xlabel('Strom I (A)')\n",
    "plt.ylabel('Spannung U (V)')\n",
    "plt.legend()\n",
    "plt.grid(True)\n",
    "plt.show()\n"
   ]
  },
  {
   "cell_type": "markdown",
   "metadata": {},
   "source": [
    "## Aufgabe 3\n",
    "### b)"
   ]
  },
  {
   "cell_type": "code",
   "execution_count": null,
   "metadata": {},
   "outputs": [],
   "source": [
    "R_list = [2.5, 3.0, 3.5, 4.0, 4.5]\n",
    "\n",
    "plt.figure(figsize=(10, 5))\n",
    "plt.scatter(I, U, label='Messwerte')\n",
    "\n",
    "for R in R_list:\n",
    "    U_expected = np.array(I) * R\n",
    "    plt.plot(I, U_expected, label=f'R = {R} Ω')\n",
    "\n",
    "plt.title('Strom I vs. Spannung U mit verschiedenen Widerständen')\n",
    "plt.xlabel('Strom I (A)')\n",
    "plt.ylabel('Spannung U (V)')\n",
    "plt.legend()\n",
    "plt.grid(True)\n",
    "plt.show()\n"
   ]
  },
  {
   "cell_type": "markdown",
   "metadata": {},
   "source": [
    "## Aufgabe 3\n",
    "### c)"
   ]
  },
  {
   "cell_type": "code",
   "execution_count": null,
   "metadata": {},
   "outputs": [],
   "source": [
    "\n",
    "\n",
    "def sum_sq_dev(R):\n",
    "    U_expected = np.array(I) * R\n",
    "    return np.sum((np.array(U) - U_expected)**2)\n",
    "\n",
    "R_values = np.linspace(2.5, 4.5, 500)\n",
    "sq_devs = [sum_sq_dev(R) for R in R_values]\n",
    "\n",
    "R_min = R_values[np.argmin(sq_devs)]\n",
    "print(f'R-Wert, der die summierte quadratische Abweichung minimiert: {R_min}')"
   ]
  },
  {
   "cell_type": "markdown",
   "metadata": {},
   "source": [
    "## Aufgabe 3\n",
    "### d)\n"
   ]
  },
  {
   "cell_type": "code",
   "execution_count": null,
   "metadata": {},
   "outputs": [],
   "source": [
    "plt.figure(figsize=(10, 5))\n",
    "plt.scatter(I, U, label='Messwerte')\n",
    "U_theoretical = np.array(I) * R_min\n",
    "plt.plot(I, U_theoretical, label=f'Erwartete Spannung für R = {R_min:.2f} Ω', color='r')\n",
    "\n",
    "plt.title('Strom I vs. Spannung U mit theoretischem Verlauf')\n",
    "plt.xlabel('Strom I (A)')\n",
    "plt.ylabel('Spannung U (V)')\n",
    "plt.legend()\n",
    "plt.grid(True)\n",
    "plt.show()"
   ]
  },
  {
   "cell_type": "markdown",
   "metadata": {},
   "source": [
    "### Verbessertes Modellc\n",
    "\n",
    "Als Verbesserung des Modells könnte man noch eine **Residuenanalyse** durchführen. Durch die Residuenanalyse (Plot der Residuen) können systematische Fehler im Modell aufgedeckt werden. Idealerweise sollten die Residuen zufällig um die Null-Linie verteilt sein."
   ]
  },
  {
   "cell_type": "code",
   "execution_count": null,
   "metadata": {},
   "outputs": [],
   "source": [
    "# Fehleranalyse durch Residuenplot\n",
    "residuals = np.array(U) - U_theoretical\n",
    "plt.figure(figsize=(10, 5))\n",
    "plt.scatter(I, residuals, label='Residuen')\n",
    "plt.axhline(0, color='red', linestyle='--')\n",
    "plt.title('Residuenanalyse')\n",
    "plt.xlabel('Strom I (A)')\n",
    "plt.ylabel('Residuen (V)')\n",
    "plt.legend()\n",
    "plt.grid(True)\n",
    "plt.show()"
   ]
  }
 ],
 "metadata": {
  "kernelspec": {
   "display_name": "Python 3",
   "language": "python",
   "name": "python3"
  },
  "language_info": {
   "name": "python",
   "version": "3.11.4"
  }
 },
 "nbformat": 4,
 "nbformat_minor": 2
}
